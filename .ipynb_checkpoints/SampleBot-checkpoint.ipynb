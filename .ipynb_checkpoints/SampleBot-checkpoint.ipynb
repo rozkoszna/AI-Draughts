{
 "cells": [
  {
   "cell_type": "code",
   "execution_count": 1,
   "id": "stopped-split",
   "metadata": {},
   "outputs": [],
   "source": [
    "import math\n",
    "\n",
    "from PIL import Image, ImageColor\n",
    "import IPython.display\n",
    "\n",
    "from Position import Position\n",
    "from Piece import Piece\n",
    "from Board import Board\n",
    "from Game import Game"
   ]
  },
  {
   "cell_type": "code",
   "execution_count": 2,
   "id": "unknown-infrared",
   "metadata": {},
   "outputs": [],
   "source": [
    "# See Game.py to check, how an implementation of a bot should look like so that it can play games in Engine\n",
    "\n",
    "# A simple bot, which chooses the first white piece and moves it one field forward-right,\n",
    "# without checking if it's a correct move.\n",
    "# It usually looses after a few moves when it attempts to make an incorrect move\n",
    "class SampleBot:\n",
    "    def make_move(self, board):\n",
    "        piece = board.whites[0]\n",
    "        return [piece.position(), piece.position().add(1, 1)]"
   ]
  },
  {
   "cell_type": "code",
   "execution_count": 3,
   "id": "basic-carter",
   "metadata": {},
   "outputs": [],
   "source": [
    "class SampleBotOne:\n",
    "    def make_move(self, board):\n",
    "        if len(board.whites) > 0:\n",
    "            piece = board.whites[1]\n",
    "        else:\n",
    "            piece = board.whites[0]\n",
    "        return [piece.position(), piece.position().add(1, 1)]"
   ]
  },
  {
   "cell_type": "code",
   "execution_count": 5,
   "id": "abandoned-robin",
   "metadata": {},
   "outputs": [
    {
     "ename": "KeyboardInterrupt",
     "evalue": "Interrupted by user",
     "output_type": "error",
     "traceback": [
      "\u001b[0;31m---------------------------------------------------------------------------\u001b[0m",
      "\u001b[0;31mKeyboardInterrupt\u001b[0m                         Traceback (most recent call last)",
      "\u001b[0;32m<ipython-input-5-434b2269a5d3>\u001b[0m in \u001b[0;36m<module>\u001b[0;34m\u001b[0m\n\u001b[1;32m      2\u001b[0m \u001b[0mbot\u001b[0m \u001b[0;34m=\u001b[0m \u001b[0mSampleBot\u001b[0m\u001b[0;34m(\u001b[0m\u001b[0;34m)\u001b[0m\u001b[0;34m\u001b[0m\u001b[0;34m\u001b[0m\u001b[0m\n\u001b[1;32m      3\u001b[0m \u001b[0mgame\u001b[0m \u001b[0;34m=\u001b[0m \u001b[0mGame\u001b[0m\u001b[0;34m(\u001b[0m\u001b[0mbot\u001b[0m\u001b[0;34m,\u001b[0m \u001b[0;32mNone\u001b[0m\u001b[0;34m)\u001b[0m\u001b[0;34m\u001b[0m\u001b[0;34m\u001b[0m\u001b[0m\n\u001b[0;32m----> 4\u001b[0;31m \u001b[0mgame\u001b[0m\u001b[0;34m.\u001b[0m\u001b[0mplay_human\u001b[0m\u001b[0;34m(\u001b[0m\u001b[0;32mFalse\u001b[0m\u001b[0;34m,\u001b[0m \u001b[0;32mTrue\u001b[0m\u001b[0;34m)\u001b[0m\u001b[0;34m\u001b[0m\u001b[0;34m\u001b[0m\u001b[0m\n\u001b[0m\u001b[1;32m      5\u001b[0m \u001b[0;34m\u001b[0m\u001b[0m\n\u001b[1;32m      6\u001b[0m \u001b[0;31m# When you are asked to specify your move in a textfield, specify it similarly as in a bot.\u001b[0m\u001b[0;34m\u001b[0m\u001b[0;34m\u001b[0m\u001b[0;34m\u001b[0m\u001b[0m\n",
      "\u001b[0;32m~/Desktop/AI-Draughts/Game.py\u001b[0m in \u001b[0;36mplay_human\u001b[0;34m(self, bot_white, draw_board)\u001b[0m\n\u001b[1;32m    130\u001b[0m \u001b[0;34m\u001b[0m\u001b[0m\n\u001b[1;32m    131\u001b[0m         \u001b[0;32mwhile\u001b[0m \u001b[0mself\u001b[0m\u001b[0;34m.\u001b[0m\u001b[0mcontinue_game\u001b[0m\u001b[0;34m:\u001b[0m\u001b[0;34m\u001b[0m\u001b[0;34m\u001b[0m\u001b[0m\n\u001b[0;32m--> 132\u001b[0;31m             \u001b[0mself\u001b[0m\u001b[0;34m.\u001b[0m\u001b[0mhuman_move\u001b[0m\u001b[0;34m(\u001b[0m\u001b[0;32mnot\u001b[0m \u001b[0mbot_white\u001b[0m\u001b[0;34m,\u001b[0m \u001b[0mdraw_board\u001b[0m\u001b[0;34m)\u001b[0m\u001b[0;34m\u001b[0m\u001b[0;34m\u001b[0m\u001b[0m\n\u001b[0m\u001b[1;32m    133\u001b[0m             \u001b[0;32mif\u001b[0m \u001b[0;32mnot\u001b[0m \u001b[0mself\u001b[0m\u001b[0;34m.\u001b[0m\u001b[0mcontinue_game\u001b[0m\u001b[0;34m:\u001b[0m\u001b[0;34m\u001b[0m\u001b[0;34m\u001b[0m\u001b[0m\n\u001b[1;32m    134\u001b[0m                 \u001b[0;32mbreak\u001b[0m\u001b[0;34m\u001b[0m\u001b[0;34m\u001b[0m\u001b[0m\n",
      "\u001b[0;32m~/Desktop/AI-Draughts/Game.py\u001b[0m in \u001b[0;36mhuman_move\u001b[0;34m(self, is_white, draw_board)\u001b[0m\n\u001b[1;32m     77\u001b[0m         \u001b[0mcorrect_move_entered\u001b[0m \u001b[0;34m=\u001b[0m \u001b[0;32mFalse\u001b[0m\u001b[0;34m\u001b[0m\u001b[0;34m\u001b[0m\u001b[0m\n\u001b[1;32m     78\u001b[0m         \u001b[0;32mwhile\u001b[0m \u001b[0;32mnot\u001b[0m \u001b[0mcorrect_move_entered\u001b[0m\u001b[0;34m:\u001b[0m\u001b[0;34m\u001b[0m\u001b[0;34m\u001b[0m\u001b[0m\n\u001b[0;32m---> 79\u001b[0;31m             \u001b[0mpre_move\u001b[0m \u001b[0;34m=\u001b[0m \u001b[0minput\u001b[0m\u001b[0;34m(\u001b[0m\u001b[0;34m\"Your move\"\u001b[0m\u001b[0;34m)\u001b[0m\u001b[0;34m.\u001b[0m\u001b[0msplit\u001b[0m\u001b[0;34m(\u001b[0m\u001b[0;34m)\u001b[0m\u001b[0;34m\u001b[0m\u001b[0;34m\u001b[0m\u001b[0m\n\u001b[0m\u001b[1;32m     80\u001b[0m             \u001b[0mmove\u001b[0m \u001b[0;34m=\u001b[0m \u001b[0;34m[\u001b[0m\u001b[0;34m]\u001b[0m\u001b[0;34m\u001b[0m\u001b[0;34m\u001b[0m\u001b[0m\n\u001b[1;32m     81\u001b[0m             \u001b[0;32mfor\u001b[0m \u001b[0mi\u001b[0m \u001b[0;32min\u001b[0m \u001b[0mrange\u001b[0m\u001b[0;34m(\u001b[0m\u001b[0mint\u001b[0m\u001b[0;34m(\u001b[0m\u001b[0mlen\u001b[0m\u001b[0;34m(\u001b[0m\u001b[0mpre_move\u001b[0m\u001b[0;34m)\u001b[0m \u001b[0;34m/\u001b[0m \u001b[0;36m2\u001b[0m\u001b[0;34m)\u001b[0m\u001b[0;34m)\u001b[0m\u001b[0;34m:\u001b[0m\u001b[0;34m\u001b[0m\u001b[0;34m\u001b[0m\u001b[0m\n",
      "\u001b[0;32m~/.local/lib/python3.8/site-packages/ipykernel/kernelbase.py\u001b[0m in \u001b[0;36mraw_input\u001b[0;34m(self, prompt)\u001b[0m\n\u001b[1;32m    855\u001b[0m                 \u001b[0;34m\"raw_input was called, but this frontend does not support input requests.\"\u001b[0m\u001b[0;34m\u001b[0m\u001b[0;34m\u001b[0m\u001b[0m\n\u001b[1;32m    856\u001b[0m             )\n\u001b[0;32m--> 857\u001b[0;31m         return self._input_request(str(prompt),\n\u001b[0m\u001b[1;32m    858\u001b[0m             \u001b[0mself\u001b[0m\u001b[0;34m.\u001b[0m\u001b[0m_parent_ident\u001b[0m\u001b[0;34m,\u001b[0m\u001b[0;34m\u001b[0m\u001b[0;34m\u001b[0m\u001b[0m\n\u001b[1;32m    859\u001b[0m             \u001b[0mself\u001b[0m\u001b[0;34m.\u001b[0m\u001b[0m_parent_header\u001b[0m\u001b[0;34m,\u001b[0m\u001b[0;34m\u001b[0m\u001b[0;34m\u001b[0m\u001b[0m\n",
      "\u001b[0;32m~/.local/lib/python3.8/site-packages/ipykernel/kernelbase.py\u001b[0m in \u001b[0;36m_input_request\u001b[0;34m(self, prompt, ident, parent, password)\u001b[0m\n\u001b[1;32m    899\u001b[0m             \u001b[0;32mexcept\u001b[0m \u001b[0mKeyboardInterrupt\u001b[0m\u001b[0;34m:\u001b[0m\u001b[0;34m\u001b[0m\u001b[0;34m\u001b[0m\u001b[0m\n\u001b[1;32m    900\u001b[0m                 \u001b[0;31m# re-raise KeyboardInterrupt, to truncate traceback\u001b[0m\u001b[0;34m\u001b[0m\u001b[0;34m\u001b[0m\u001b[0;34m\u001b[0m\u001b[0m\n\u001b[0;32m--> 901\u001b[0;31m                 \u001b[0;32mraise\u001b[0m \u001b[0mKeyboardInterrupt\u001b[0m\u001b[0;34m(\u001b[0m\u001b[0;34m\"Interrupted by user\"\u001b[0m\u001b[0;34m)\u001b[0m \u001b[0;32mfrom\u001b[0m \u001b[0;32mNone\u001b[0m\u001b[0;34m\u001b[0m\u001b[0;34m\u001b[0m\u001b[0m\n\u001b[0m\u001b[1;32m    902\u001b[0m             \u001b[0;32mexcept\u001b[0m \u001b[0mException\u001b[0m \u001b[0;32mas\u001b[0m \u001b[0me\u001b[0m\u001b[0;34m:\u001b[0m\u001b[0;34m\u001b[0m\u001b[0;34m\u001b[0m\u001b[0m\n\u001b[1;32m    903\u001b[0m                 \u001b[0mself\u001b[0m\u001b[0;34m.\u001b[0m\u001b[0mlog\u001b[0m\u001b[0;34m.\u001b[0m\u001b[0mwarning\u001b[0m\u001b[0;34m(\u001b[0m\u001b[0;34m\"Invalid Message:\"\u001b[0m\u001b[0;34m,\u001b[0m \u001b[0mexc_info\u001b[0m\u001b[0;34m=\u001b[0m\u001b[0;32mTrue\u001b[0m\u001b[0;34m)\u001b[0m\u001b[0;34m\u001b[0m\u001b[0;34m\u001b[0m\u001b[0m\n",
      "\u001b[0;31mKeyboardInterrupt\u001b[0m: Interrupted by user"
     ]
    }
   ],
   "source": [
    "# Suppose you have a class SampleBot and want to play againt it. Run:\n",
    "bot = SampleBot()\n",
    "game = Game(bot, None)\n",
    "game.play_human(False, True)\n",
    "\n",
    "# When you are asked to specify your move in a textfield, specify it similarly as in a bot.\n",
    "# However, don't wrap the locations into Positions class or a list - just list the numbers.\n",
    "# For instance, to move from position (2, 0) to position (3, 1) just type: 2 0 3 1\n",
    "# Also, remember that we firstly specify the row number and then the column number\n",
    "# and that the upper-left field is (0, 0)"
   ]
  },
  {
   "cell_type": "code",
   "execution_count": 6,
   "id": "appreciated-trader",
   "metadata": {},
   "outputs": [
    {
     "data": {
      "image/png": "[encoded data removed]",
      "text/plain": [
       "<PIL.Image.Image image mode=RGB size=400x400 at 0x7F47BF42E400>"
      ]
     },
     "metadata": {},
     "output_type": "display_data"
    },
    {
     "name": "stdout",
     "output_type": "stream",
     "text": [
      "WHITE WINS\n"
     ]
    },
    {
     "data": {
      "image/png": "[encoded data removed]",
      "text/plain": [
       "<PIL.Image.Image image mode=RGB size=400x400 at 0x7F47BF427A00>"
      ]
     },
     "metadata": {},
     "output_type": "display_data"
    },
    {
     "data": {
      "text/plain": [
       "{'moves': [[{'y': 2, 'x': 0}, {'y': 3, 'x': 1}],\n",
       "  [{'y': 2, 'x': 8}, {'y': 3, 'x': 7}],\n",
       "  [{'y': 1, 'x': 1}, {'y': 2, 'x': 0}],\n",
       "  [{'y': 3, 'x': 7}, {'y': 4, 'x': 6}],\n",
       "  [{'y': 0, 'x': 0}, {'y': 1, 'x': 1}],\n",
       "  [{'y': 4, 'x': 6}, {'y': 5, 'x': 5}],\n",
       "  [{'y': 3, 'x': 1}, {'y': 4, 'x': 2}],\n",
       "  [{'y': 2, 'x': 6}, {'y': 3, 'x': 5}],\n",
       "  [{'y': 2, 'x': 0}, {'y': 3, 'x': 1}],\n",
       "  [{'y': 3, 'x': 5}, {'y': 4, 'x': 6}],\n",
       "  [{'y': 4, 'x': 2}, {'y': 6, 'x': 4}],\n",
       "  [{'y': 2, 'x': 4}, {'y': 4, 'x': 6}],\n",
       "  [{'y': 2, 'x': 4}, {'y': 3, 'x': 3}],\n",
       "  [{'y': 5, 'x': 5}, {'y': 6, 'x': 4}],\n",
       "  [{'y': 2, 'x': 6}, {'y': 4, 'x': 4}, {'y': 6, 'x': 2}],\n",
       "  [{'y': 2, 'x': 2}, {'y': 3, 'x': 1}],\n",
       "  [{'y': 1, 'x': 1}, {'y': 2, 'x': 0}],\n",
       "  [{'y': 3, 'x': 1}, {'y': 4, 'x': 0}],\n",
       "  [{'y': 0, 'x': 2}, {'y': 1, 'x': 1}],\n",
       "  [{'y': 4, 'x': 0}, {'y': 5, 'x': 1}],\n",
       "  [{'y': 3, 'x': 1}, {'y': 4, 'x': 0}],\n",
       "  [{'y': 5, 'x': 1}, {'y': 6, 'x': 0}],\n",
       "  [{'y': 2, 'x': 0}, {'y': 3, 'x': 1}],\n",
       "  [{'y': 2, 'x': 0}, {'y': 3, 'x': 1}],\n",
       "  [{'y': 3, 'x': 1}, {'y': 4, 'x': 2}],\n",
       "  [{'y': 3, 'x': 1}, {'y': 4, 'x': 0}],\n",
       "  [{'y': 4, 'x': 2}, {'y': 5, 'x': 1}],\n",
       "  [{'y': 4, 'x': 0}, {'y': 5, 'x': 1}],\n",
       "  [{'y': 1, 'x': 1}, {'y': 2, 'x': 0}],\n",
       "  [{'y': 5, 'x': 1}, {'y': 6, 'x': 2}],\n",
       "  [{'y': 2, 'x': 8}, {'y': 4, 'x': 6}],\n",
       "  [{'y': 6, 'x': 0}, {'y': 7, 'x': 1}],\n",
       "  [{'y': 1, 'x': 7}, {'y': 3, 'x': 9}],\n",
       "  [{'y': 1, 'x': 7}, {'y': 2, 'x': 6}],\n",
       "  [{'y': 5, 'x': 1}, {'y': 6, 'x': 0}],\n",
       "  [{'y': 2, 'x': 6}, {'y': 4, 'x': 8}],\n",
       "  [{'y': 4, 'x': 0}, {'y': 6, 'x': 2}],\n",
       "  [{'y': 0, 'x': 8}, {'y': 1, 'x': 7}],\n",
       "  [{'y': 6, 'x': 0}, {'y': 7, 'x': 1}],\n",
       "  [{'y': 1, 'x': 7}, {'y': 3, 'x': 9}],\n",
       "  [{'y': 2, 'x': 0}, {'y': 3, 'x': 1}],\n",
       "  [{'y': 0, 'x': 6}, {'y': 1, 'x': 7}],\n",
       "  [{'y': 0, 'x': 6}, {'y': 1, 'x': 7}],\n",
       "  [{'y': 1, 'x': 3}, {'y': 2, 'x': 2}],\n",
       "  [{'y': 1, 'x': 7}, {'y': 2, 'x': 6}],\n",
       "  [{'y': 2, 'x': 2}, {'y': 3, 'x': 1}],\n",
       "  [{'y': 2, 'x': 6}, {'y': 3, 'x': 5}],\n",
       "  [{'y': 3, 'x': 1}, {'y': 4, 'x': 0}],\n",
       "  [{'y': 3, 'x': 1}, {'y': 4, 'x': 0}],\n",
       "  [{'y': 1, 'x': 5}, {'y': 2, 'x': 4}],\n",
       "  [{'y': 3, 'x': 5}, {'y': 4, 'x': 4}],\n",
       "  [{'y': 2, 'x': 4}, {'y': 3, 'x': 3}],\n",
       "  [{'y': 4, 'x': 4}, {'y': 5, 'x': 3}],\n",
       "  [{'y': 1, 'x': 1}, {'y': 2, 'x': 0}],\n",
       "  [{'y': 5, 'x': 3}, {'y': 6, 'x': 4}],\n",
       "  [{'y': 1, 'x': 7}, {'y': 2, 'x': 8}],\n",
       "  [{'y': 6, 'x': 4}, {'y': 7, 'x': 3}],\n",
       "  [{'y': 2, 'x': 8}, {'y': 4, 'x': 6}],\n",
       "  [{'y': 7, 'x': 3}, {'y': 8, 'x': 2}],\n",
       "  [{'y': 3, 'x': 9}, {'y': 4, 'x': 8}],\n",
       "  [{'y': 4, 'x': 0}, {'y': 6, 'x': 2}, {'y': 4, 'x': 4}],\n",
       "  [{'y': 3, 'x': 3}, {'y': 4, 'x': 4}],\n",
       "  [{'y': 4, 'x': 4}, {'y': 6, 'x': 6}],\n",
       "  [{'y': 4, 'x': 0}, {'y': 5, 'x': 1}],\n",
       "  [{'y': 3, 'x': 9}, {'y': 5, 'x': 7}],\n",
       "  [{'y': 1, 'x': 9}, {'y': 2, 'x': 8}],\n",
       "  [{'y': 6, 'x': 6}, {'y': 7, 'x': 5}],\n",
       "  [{'y': 2, 'x': 8}, {'y': 3, 'x': 7}],\n",
       "  [{'y': 8, 'x': 2}, {'y': 9, 'x': 1}],\n",
       "  [{'y': 3, 'x': 7}, {'y': 4, 'x': 8}],\n",
       "  [{'y': 7, 'x': 5}, {'y': 8, 'x': 4}],\n",
       "  [{'y': 0, 'x': 4}, {'y': 2, 'x': 6}],\n",
       "  [{'y': 9, 'x': 1}, {'y': 6, 'x': 4}],\n",
       "  [{'y': 4, 'x': 8}, {'y': 5, 'x': 9}],\n",
       "  [{'y': 6, 'x': 4}, {'y': 5, 'x': 3}],\n",
       "  [{'y': 5, 'x': 9}, {'y': 6, 'x': 8}],\n",
       "  [{'y': 2, 'x': 2}, {'y': 4, 'x': 0}],\n",
       "  [{'y': 2, 'x': 0}, {'y': 3, 'x': 1}],\n",
       "  [{'y': 5, 'x': 7}, {'y': 7, 'x': 9}],\n",
       "  [{'y': 0, 'x': 2}, {'y': 1, 'x': 3}],\n",
       "  [{'y': 5, 'x': 3}, {'y': 9, 'x': 7}],\n",
       "  [{'y': 0, 'x': 0}, {'y': 1, 'x': 1}],\n",
       "  [{'y': 9, 'x': 7}, {'y': 6, 'x': 4}],\n",
       "  [{'y': 1, 'x': 1}, {'y': 2, 'x': 2}],\n",
       "  [{'y': 7, 'x': 9}, {'y': 8, 'x': 8}],\n",
       "  [{'y': 2, 'x': 2}, {'y': 3, 'x': 1}],\n",
       "  [{'y': 4, 'x': 6}, {'y': 5, 'x': 5}],\n",
       "  [{'y': 3, 'x': 1}, {'y': 4, 'x': 2}],\n",
       "  [{'y': 6, 'x': 4}, {'y': 5, 'x': 3}],\n",
       "  [{'y': 4, 'x': 2}, {'y': 5, 'x': 1}],\n",
       "  [{'y': 5, 'x': 3}, {'y': 4, 'x': 2}],\n",
       "  [{'y': 5, 'x': 1}, {'y': 6, 'x': 0}],\n",
       "  [{'y': 4, 'x': 2}, {'y': 3, 'x': 1}],\n",
       "  [{'y': 6, 'x': 0}, {'y': 7, 'x': 1}],\n",
       "  [{'y': 1, 'x': 9}, {'y': 3, 'x': 7}]],\n",
       " 'winner': 'white'}"
      ]
     },
     "execution_count": 6,
     "metadata": {},
     "output_type": "execute_result"
    }
   ],
   "source": [
    "# Suppose you have classes SampleBot, SampleBotOne and want them to play against each other. Run:\n",
    "bot = Bot()\n",
    "botOne = Bot()\n",
    "game = Game(bot, botOne)\n",
    "game.play_bots(True)"
   ]
  },
  {
   "cell_type": "code",
   "execution_count": null,
   "id": "greek-reporter",
   "metadata": {},
   "outputs": [],
   "source": []
  },
  {
   "cell_type": "code",
   "execution_count": null,
   "id": "gorgeous-philadelphia",
   "metadata": {},
   "outputs": [],
   "source": []
  },
  {
   "cell_type": "code",
   "execution_count": null,
   "id": "demanding-correspondence",
   "metadata": {},
   "outputs": [],
   "source": []
  },
  {
   "cell_type": "code",
   "execution_count": null,
   "id": "typical-principal",
   "metadata": {},
   "outputs": [],
   "source": []
  },
  {
   "cell_type": "code",
   "execution_count": null,
   "id": "enhanced-finnish",
   "metadata": {},
   "outputs": [],
   "source": []
  }
 ],
 "metadata": {
  "kernelspec": {
   "display_name": "Python 3",
   "language": "python",
   "name": "python3"
  },
  "language_info": {
   "codemirror_mode": {
    "name": "ipython",
    "version": 3
   },
   "file_extension": ".py",
   "mimetype": "text/x-python",
   "name": "python",
   "nbconvert_exporter": "python",
   "pygments_lexer": "ipython3",
   "version": "3.8.10"
  }
 },
 "nbformat": 4,
 "nbformat_minor": 5
}
